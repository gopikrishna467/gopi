{
 "cells": [
  {
   "cell_type": "code",
   "execution_count": 1,
   "id": "81d28e41-ffef-4ebf-af57-35a05084af29",
   "metadata": {},
   "outputs": [
    {
     "name": "stdout",
     "output_type": "stream",
     "text": [
      "      Manufacturer              Model  Sales in thousands 4-year resale value  \\\n",
      "0    Acura          Integra                        16.919               16.36   \n",
      "1    Acura          TL                             39.384              19.875   \n",
      "2    Acura          CL                             14.114              18.225   \n",
      "3    Acura          RL                              8.588              29.725   \n",
      "4    Audi           A4                             20.397              22.255   \n",
      "..             ...                ...                 ...                 ...   \n",
      "152  Volvo          V40                             3.545                   .   \n",
      "153  Volvo          S70                            15.245                   .   \n",
      "154  Volvo          V70                            17.531                   .   \n",
      "155  Volvo          C70                             3.493                   .   \n",
      "156  Volvo          S80                            18.969                   .   \n",
      "\n",
      "    Vehicle type Price in thousands Engine size Horsepower Wheelbase Width  \\\n",
      "0      Passenger               21.5         1.8        140     101.2  67.3   \n",
      "1      Passenger               28.4         3.2        225     108.1  70.3   \n",
      "2      Passenger                  .         3.2        225     106.9  70.6   \n",
      "3      Passenger                 42         3.5        210     114.6  71.4   \n",
      "4      Passenger              23.99         1.8        150     102.6  68.2   \n",
      "..           ...                ...         ...        ...       ...   ...   \n",
      "152    Passenger               24.4         1.9        160     100.5  67.6   \n",
      "153    Passenger               27.5         2.4        168     104.9  69.3   \n",
      "154    Passenger               28.8         2.4        168     104.9  69.3   \n",
      "155    Passenger               45.5         2.3        236     104.9  71.5   \n",
      "156    Passenger                 36         2.9        201     109.9  72.1   \n",
      "\n",
      "    Length Curb weight Fuel capacity Fuel efficiency Latest Launch  \n",
      "0    172.4       2.639          13.2              28      2-Feb-14  \n",
      "1    192.9       3.517          17.2              25      6-Mar-15  \n",
      "2      192        3.47          17.2              26      1-Apr-14  \n",
      "3    196.6        3.85            18              22      3-Oct-15  \n",
      "4      178       2.998          16.4              27     10-Aug-15  \n",
      "..     ...         ...           ...             ...           ...  \n",
      "152  176.6       3.042          15.8              25     21-Sep-15  \n",
      "153  185.9       3.208          17.9              25     24-Nov-14  \n",
      "154  186.2       3.259          17.9              25     25-Jun-15  \n",
      "155  185.7       3.601          18.5              23     26-Apr-15  \n",
      "156  189.8         3.6          21.1              24     14-Nov-15  \n",
      "\n",
      "[157 rows x 15 columns]\n"
     ]
    }
   ],
   "source": [
    "import pandas as pd\n",
    "df=pd.read_csv(\"/home/user/Downloads/Car_sales.csv\"\n",
    "print(df)"
   ]
  },
  {
   "cell_type": "code",
   "execution_count": 5,
   "id": "9ae7df64-6a50-435c-b65a-6aa21529577b",
   "metadata": {},
   "outputs": [
    {
     "name": "stdout",
     "output_type": "stream",
     "text": [
      "    Manufacturer              Model  Sales in thousands 4-year resale value  \\\n",
      "0  Acura          Integra                        16.919               16.36   \n",
      "1  Acura          TL                             39.384              19.875   \n",
      "2  Acura          CL                             14.114              18.225   \n",
      "3  Acura          RL                              8.588              29.725   \n",
      "4  Audi           A4                             20.397              22.255   \n",
      "\n",
      "  Vehicle type Price in thousands Engine size Horsepower Wheelbase Width  \\\n",
      "0    Passenger               21.5         1.8        140     101.2  67.3   \n",
      "1    Passenger               28.4         3.2        225     108.1  70.3   \n",
      "2    Passenger                  .         3.2        225     106.9  70.6   \n",
      "3    Passenger                 42         3.5        210     114.6  71.4   \n",
      "4    Passenger              23.99         1.8        150     102.6  68.2   \n",
      "\n",
      "  Length Curb weight Fuel capacity Fuel efficiency Latest Launch  \n",
      "0  172.4       2.639          13.2              28      2-Feb-14  \n",
      "1  192.9       3.517          17.2              25      6-Mar-15  \n",
      "2    192        3.47          17.2              26      1-Apr-14  \n",
      "3  196.6        3.85            18              22      3-Oct-15  \n",
      "4    178       2.998          16.4              27     10-Aug-15  \n"
     ]
    }
   ],
   "source": [
    "print(df.head())"
   ]
  },
  {
   "cell_type": "code",
   "execution_count": 6,
   "id": "808e2b6a-37d4-4652-9858-61fd7dbe0281",
   "metadata": {},
   "outputs": [
    {
     "data": {
      "text/html": [
       "<div>\n",
       "<style scoped>\n",
       "    .dataframe tbody tr th:only-of-type {\n",
       "        vertical-align: middle;\n",
       "    }\n",
       "\n",
       "    .dataframe tbody tr th {\n",
       "        vertical-align: top;\n",
       "    }\n",
       "\n",
       "    .dataframe thead th {\n",
       "        text-align: right;\n",
       "    }\n",
       "</style>\n",
       "<table border=\"1\" class=\"dataframe\">\n",
       "  <thead>\n",
       "    <tr style=\"text-align: right;\">\n",
       "      <th></th>\n",
       "      <th>Manufacturer</th>\n",
       "      <th>Model</th>\n",
       "      <th>Sales in thousands</th>\n",
       "      <th>4-year resale value</th>\n",
       "      <th>Vehicle type</th>\n",
       "      <th>Price in thousands</th>\n",
       "      <th>Engine size</th>\n",
       "      <th>Horsepower</th>\n",
       "      <th>Wheelbase</th>\n",
       "      <th>Width</th>\n",
       "      <th>Length</th>\n",
       "      <th>Curb weight</th>\n",
       "      <th>Fuel capacity</th>\n",
       "      <th>Fuel efficiency</th>\n",
       "      <th>Latest Launch</th>\n",
       "    </tr>\n",
       "  </thead>\n",
       "  <tbody>\n",
       "    <tr>\n",
       "      <th>0</th>\n",
       "      <td>Acura</td>\n",
       "      <td>Integra</td>\n",
       "      <td>16.919</td>\n",
       "      <td>16.36</td>\n",
       "      <td>Passenger</td>\n",
       "      <td>21.5</td>\n",
       "      <td>1.8</td>\n",
       "      <td>140</td>\n",
       "      <td>101.2</td>\n",
       "      <td>67.3</td>\n",
       "      <td>172.4</td>\n",
       "      <td>2.639</td>\n",
       "      <td>13.2</td>\n",
       "      <td>28</td>\n",
       "      <td>2-Feb-14</td>\n",
       "    </tr>\n",
       "    <tr>\n",
       "      <th>1</th>\n",
       "      <td>Acura</td>\n",
       "      <td>TL</td>\n",
       "      <td>39.384</td>\n",
       "      <td>19.875</td>\n",
       "      <td>Passenger</td>\n",
       "      <td>28.4</td>\n",
       "      <td>3.2</td>\n",
       "      <td>225</td>\n",
       "      <td>108.1</td>\n",
       "      <td>70.3</td>\n",
       "      <td>192.9</td>\n",
       "      <td>3.517</td>\n",
       "      <td>17.2</td>\n",
       "      <td>25</td>\n",
       "      <td>6-Mar-15</td>\n",
       "    </tr>\n",
       "    <tr>\n",
       "      <th>2</th>\n",
       "      <td>Acura</td>\n",
       "      <td>CL</td>\n",
       "      <td>14.114</td>\n",
       "      <td>18.225</td>\n",
       "      <td>Passenger</td>\n",
       "      <td>.</td>\n",
       "      <td>3.2</td>\n",
       "      <td>225</td>\n",
       "      <td>106.9</td>\n",
       "      <td>70.6</td>\n",
       "      <td>192</td>\n",
       "      <td>3.47</td>\n",
       "      <td>17.2</td>\n",
       "      <td>26</td>\n",
       "      <td>1-Apr-14</td>\n",
       "    </tr>\n",
       "    <tr>\n",
       "      <th>3</th>\n",
       "      <td>Acura</td>\n",
       "      <td>RL</td>\n",
       "      <td>8.588</td>\n",
       "      <td>29.725</td>\n",
       "      <td>Passenger</td>\n",
       "      <td>42</td>\n",
       "      <td>3.5</td>\n",
       "      <td>210</td>\n",
       "      <td>114.6</td>\n",
       "      <td>71.4</td>\n",
       "      <td>196.6</td>\n",
       "      <td>3.85</td>\n",
       "      <td>18</td>\n",
       "      <td>22</td>\n",
       "      <td>3-Oct-15</td>\n",
       "    </tr>\n",
       "    <tr>\n",
       "      <th>4</th>\n",
       "      <td>Audi</td>\n",
       "      <td>A4</td>\n",
       "      <td>20.397</td>\n",
       "      <td>22.255</td>\n",
       "      <td>Passenger</td>\n",
       "      <td>23.99</td>\n",
       "      <td>1.8</td>\n",
       "      <td>150</td>\n",
       "      <td>102.6</td>\n",
       "      <td>68.2</td>\n",
       "      <td>178</td>\n",
       "      <td>2.998</td>\n",
       "      <td>16.4</td>\n",
       "      <td>27</td>\n",
       "      <td>10-Aug-15</td>\n",
       "    </tr>\n",
       "  </tbody>\n",
       "</table>\n",
       "</div>"
      ],
      "text/plain": [
       "    Manufacturer              Model  Sales in thousands 4-year resale value  \\\n",
       "0  Acura          Integra                        16.919               16.36   \n",
       "1  Acura          TL                             39.384              19.875   \n",
       "2  Acura          CL                             14.114              18.225   \n",
       "3  Acura          RL                              8.588              29.725   \n",
       "4  Audi           A4                             20.397              22.255   \n",
       "\n",
       "  Vehicle type Price in thousands Engine size Horsepower Wheelbase Width  \\\n",
       "0    Passenger               21.5         1.8        140     101.2  67.3   \n",
       "1    Passenger               28.4         3.2        225     108.1  70.3   \n",
       "2    Passenger                  .         3.2        225     106.9  70.6   \n",
       "3    Passenger                 42         3.5        210     114.6  71.4   \n",
       "4    Passenger              23.99         1.8        150     102.6  68.2   \n",
       "\n",
       "  Length Curb weight Fuel capacity Fuel efficiency Latest Launch  \n",
       "0  172.4       2.639          13.2              28      2-Feb-14  \n",
       "1  192.9       3.517          17.2              25      6-Mar-15  \n",
       "2    192        3.47          17.2              26      1-Apr-14  \n",
       "3  196.6        3.85            18              22      3-Oct-15  \n",
       "4    178       2.998          16.4              27     10-Aug-15  "
      ]
     },
     "execution_count": 6,
     "metadata": {},
     "output_type": "execute_result"
    }
   ],
   "source": [
    "df.head()"
   ]
  },
  {
   "cell_type": "code",
   "execution_count": 7,
   "id": "5b653aa0-d04f-4bb0-902f-ef42667aa6cc",
   "metadata": {},
   "outputs": [
    {
     "name": "stdout",
     "output_type": "stream",
     "text": [
      "Number of attributes: 15\n"
     ]
    }
   ],
   "source": [
    "num_attributes = df.shape[1]\n",
    "print(\"Number of attributes:\", num_attributes)"
   ]
  },
  {
   "cell_type": "code",
   "execution_count": 8,
   "id": "39e91064-1101-44ae-ae8d-f5f058141616",
   "metadata": {},
   "outputs": [
    {
     "name": "stdout",
     "output_type": "stream",
     "text": [
      "DataFrame Info:\n",
      "<class 'pandas.core.frame.DataFrame'>\n",
      "RangeIndex: 157 entries, 0 to 156\n",
      "Data columns (total 15 columns):\n",
      " #   Column               Non-Null Count  Dtype  \n",
      "---  ------               --------------  -----  \n",
      " 0   Manufacturer         157 non-null    object \n",
      " 1   Model                157 non-null    object \n",
      " 2   Sales in thousands   157 non-null    float64\n",
      " 3   4-year resale value  157 non-null    object \n",
      " 4   Vehicle type         157 non-null    object \n",
      " 5   Price in thousands   157 non-null    object \n",
      " 6   Engine size          157 non-null    object \n",
      " 7   Horsepower           157 non-null    object \n",
      " 8   Wheelbase            157 non-null    object \n",
      " 9   Width                157 non-null    object \n",
      " 10  Length               157 non-null    object \n",
      " 11  Curb weight          157 non-null    object \n",
      " 12  Fuel capacity        157 non-null    object \n",
      " 13  Fuel efficiency      157 non-null    object \n",
      " 14  Latest Launch        157 non-null    object \n",
      "dtypes: float64(1), object(14)\n",
      "memory usage: 18.5+ KB\n",
      "None\n",
      "<class 'pandas.core.frame.DataFrame'>\n",
      "RangeIndex: 157 entries, 0 to 156\n",
      "Data columns (total 15 columns):\n",
      " #   Column               Non-Null Count  Dtype  \n",
      "---  ------               --------------  -----  \n",
      " 0   Manufacturer         157 non-null    object \n",
      " 1   Model                157 non-null    object \n",
      " 2   Sales in thousands   157 non-null    float64\n",
      " 3   4-year resale value  157 non-null    object \n",
      " 4   Vehicle type         157 non-null    object \n",
      " 5   Price in thousands   157 non-null    object \n",
      " 6   Engine size          157 non-null    object \n",
      " 7   Horsepower           157 non-null    object \n",
      " 8   Wheelbase            157 non-null    object \n",
      " 9   Width                157 non-null    object \n",
      " 10  Length               157 non-null    object \n",
      " 11  Curb weight          157 non-null    object \n",
      " 12  Fuel capacity        157 non-null    object \n",
      " 13  Fuel efficiency      157 non-null    object \n",
      " 14  Latest Launch        157 non-null    object \n",
      "dtypes: float64(1), object(14)\n",
      "memory usage: 18.5+ KB\n"
     ]
    }
   ],
   "source": [
    "print(\"DataFrame Info:\")\n",
    "print(df.info())\n",
    "df.info()"
   ]
  },
  {
   "cell_type": "code",
   "execution_count": 9,
   "id": "fa87500b-017a-4878-90e4-2b400dd84186",
   "metadata": {},
   "outputs": [
    {
     "data": {
      "text/plain": [
       "Manufacturer            object\n",
       "Model                   object\n",
       "Sales in thousands     float64\n",
       "4-year resale value     object\n",
       "Vehicle type            object\n",
       "Price in thousands      object\n",
       "Engine size             object\n",
       "Horsepower              object\n",
       "Wheelbase               object\n",
       "Width                   object\n",
       "Length                  object\n",
       "Curb weight             object\n",
       "Fuel capacity           object\n",
       "Fuel efficiency         object\n",
       "Latest Launch           object\n",
       "dtype: object"
      ]
     },
     "execution_count": 9,
     "metadata": {},
     "output_type": "execute_result"
    }
   ],
   "source": [
    "df.dtypes"
   ]
  },
  {
   "cell_type": "code",
   "execution_count": 10,
   "id": "10045f08-0695-47a9-9668-47bd13921091",
   "metadata": {},
   "outputs": [
    {
     "name": "stdout",
     "output_type": "stream",
     "text": [
      "Summary Statistics for Numerical Variables:\n",
      "       Sales in thousands\n",
      "count          157.000000\n",
      "mean            52.998076\n",
      "std             68.029422\n",
      "min              0.110000\n",
      "25%             14.114000\n",
      "50%             29.450000\n",
      "75%             67.956000\n",
      "max            540.561000\n"
     ]
    }
   ],
   "source": [
    "print(\"Summary Statistics for Numerical Variables:\")\n",
    "print(df.describe())"
   ]
  },
  {
   "cell_type": "code",
   "execution_count": 11,
   "id": "e12b2ab6-9029-451b-8d37-3905ae51adbf",
   "metadata": {},
   "outputs": [
    {
     "name": "stdout",
     "output_type": "stream",
     "text": [
      "Number of missing values in each column:\n",
      "Manufacturer           0\n",
      "Model                  0\n",
      "Sales in thousands     0\n",
      "4-year resale value    0\n",
      "Vehicle type           0\n",
      "Price in thousands     0\n",
      "Engine size            0\n",
      "Horsepower             0\n",
      "Wheelbase              0\n",
      "Width                  0\n",
      "Length                 0\n",
      "Curb weight            0\n",
      "Fuel capacity          0\n",
      "Fuel efficiency        0\n",
      "Latest Launch          0\n",
      "dtype: int64\n"
     ]
    }
   ],
   "source": [
    "print(\"Number of missing values in each column:\")\n",
    "print(df.isnull().sum())"
   ]
  },
  {
   "cell_type": "code",
   "execution_count": 12,
   "id": "1cbcbab5-542b-47ab-aac9-1f7b0062fd68",
   "metadata": {},
   "outputs": [
    {
     "name": "stdout",
     "output_type": "stream",
     "text": [
      "Manufacturer           0\n",
      "Model                  0\n",
      "Sales in thousands     0\n",
      "4-year resale value    0\n",
      "Vehicle type           0\n",
      "Price in thousands     0\n",
      "Engine size            0\n",
      "Horsepower             0\n",
      "Wheelbase              0\n",
      "Width                  0\n",
      "Length                 0\n",
      "Curb weight            0\n",
      "Fuel capacity          0\n",
      "Fuel efficiency        0\n",
      "Latest Launch          0\n",
      "dtype: int64\n"
     ]
    }
   ],
   "source": [
    "print(df.isnull().sum())"
   ]
  },
  {
   "cell_type": "code",
   "execution_count": 14,
   "id": "0934eccd-d273-4d7a-b180-6f7204db1591",
   "metadata": {},
   "outputs": [
    {
     "name": "stdout",
     "output_type": "stream",
     "text": [
      "<class 'pandas.core.frame.DataFrame'>\n",
      "RangeIndex: 157 entries, 0 to 156\n",
      "Data columns (total 15 columns):\n",
      " #   Column               Non-Null Count  Dtype  \n",
      "---  ------               --------------  -----  \n",
      " 0   Manufacturer         157 non-null    object \n",
      " 1   Model                157 non-null    object \n",
      " 2   Sales in thousands   157 non-null    float64\n",
      " 3   4-year resale value  157 non-null    object \n",
      " 4   Vehicle type         157 non-null    object \n",
      " 5   Price in thousands   157 non-null    object \n",
      " 6   Engine size          157 non-null    object \n",
      " 7   Horsepower           157 non-null    object \n",
      " 8   Wheelbase            157 non-null    object \n",
      " 9   Width                157 non-null    object \n",
      " 10  Length               157 non-null    object \n",
      " 11  Curb weight          157 non-null    object \n",
      " 12  Fuel capacity        157 non-null    object \n",
      " 13  Fuel efficiency      157 non-null    object \n",
      " 14  Latest Launch        157 non-null    object \n",
      "dtypes: float64(1), object(14)\n",
      "memory usage: 18.5+ KB\n"
     ]
    }
   ],
   "source": [
    "df.info()"
   ]
  },
  {
   "cell_type": "code",
   "execution_count": 15,
   "id": "0d38ce20-43b7-4de3-a203-9bc584a2a6be",
   "metadata": {},
   "outputs": [
    {
     "data": {
      "text/html": [
       "<div>\n",
       "<style scoped>\n",
       "    .dataframe tbody tr th:only-of-type {\n",
       "        vertical-align: middle;\n",
       "    }\n",
       "\n",
       "    .dataframe tbody tr th {\n",
       "        vertical-align: top;\n",
       "    }\n",
       "\n",
       "    .dataframe thead th {\n",
       "        text-align: right;\n",
       "    }\n",
       "</style>\n",
       "<table border=\"1\" class=\"dataframe\">\n",
       "  <thead>\n",
       "    <tr style=\"text-align: right;\">\n",
       "      <th></th>\n",
       "      <th>Manufacturer</th>\n",
       "      <th>Model</th>\n",
       "      <th>Sales in thousands</th>\n",
       "      <th>4-year resale value</th>\n",
       "      <th>Vehicle type</th>\n",
       "      <th>Price in thousands</th>\n",
       "      <th>Engine size</th>\n",
       "      <th>Horsepower</th>\n",
       "      <th>Wheelbase</th>\n",
       "      <th>Width</th>\n",
       "      <th>Length</th>\n",
       "      <th>Curb weight</th>\n",
       "      <th>Fuel capacity</th>\n",
       "      <th>Fuel efficiency</th>\n",
       "      <th>Latest Launch</th>\n",
       "    </tr>\n",
       "  </thead>\n",
       "  <tbody>\n",
       "    <tr>\n",
       "      <th>0</th>\n",
       "      <td>Acura</td>\n",
       "      <td>Integra</td>\n",
       "      <td>16.919</td>\n",
       "      <td>16.36</td>\n",
       "      <td>Passenger</td>\n",
       "      <td>21.5</td>\n",
       "      <td>1.8</td>\n",
       "      <td>140</td>\n",
       "      <td>101.2</td>\n",
       "      <td>67.3</td>\n",
       "      <td>172.4</td>\n",
       "      <td>2.639</td>\n",
       "      <td>13.2</td>\n",
       "      <td>28</td>\n",
       "      <td>2-Feb-14</td>\n",
       "    </tr>\n",
       "    <tr>\n",
       "      <th>1</th>\n",
       "      <td>Acura</td>\n",
       "      <td>TL</td>\n",
       "      <td>39.384</td>\n",
       "      <td>19.875</td>\n",
       "      <td>Passenger</td>\n",
       "      <td>28.4</td>\n",
       "      <td>3.2</td>\n",
       "      <td>225</td>\n",
       "      <td>108.1</td>\n",
       "      <td>70.3</td>\n",
       "      <td>192.9</td>\n",
       "      <td>3.517</td>\n",
       "      <td>17.2</td>\n",
       "      <td>25</td>\n",
       "      <td>6-Mar-15</td>\n",
       "    </tr>\n",
       "    <tr>\n",
       "      <th>2</th>\n",
       "      <td>Acura</td>\n",
       "      <td>CL</td>\n",
       "      <td>14.114</td>\n",
       "      <td>18.225</td>\n",
       "      <td>Passenger</td>\n",
       "      <td>.</td>\n",
       "      <td>3.2</td>\n",
       "      <td>225</td>\n",
       "      <td>106.9</td>\n",
       "      <td>70.6</td>\n",
       "      <td>192</td>\n",
       "      <td>3.47</td>\n",
       "      <td>17.2</td>\n",
       "      <td>26</td>\n",
       "      <td>1-Apr-14</td>\n",
       "    </tr>\n",
       "    <tr>\n",
       "      <th>3</th>\n",
       "      <td>Acura</td>\n",
       "      <td>RL</td>\n",
       "      <td>8.588</td>\n",
       "      <td>29.725</td>\n",
       "      <td>Passenger</td>\n",
       "      <td>42</td>\n",
       "      <td>3.5</td>\n",
       "      <td>210</td>\n",
       "      <td>114.6</td>\n",
       "      <td>71.4</td>\n",
       "      <td>196.6</td>\n",
       "      <td>3.85</td>\n",
       "      <td>18</td>\n",
       "      <td>22</td>\n",
       "      <td>3-Oct-15</td>\n",
       "    </tr>\n",
       "    <tr>\n",
       "      <th>4</th>\n",
       "      <td>Audi</td>\n",
       "      <td>A4</td>\n",
       "      <td>20.397</td>\n",
       "      <td>22.255</td>\n",
       "      <td>Passenger</td>\n",
       "      <td>23.99</td>\n",
       "      <td>1.8</td>\n",
       "      <td>150</td>\n",
       "      <td>102.6</td>\n",
       "      <td>68.2</td>\n",
       "      <td>178</td>\n",
       "      <td>2.998</td>\n",
       "      <td>16.4</td>\n",
       "      <td>27</td>\n",
       "      <td>10-Aug-15</td>\n",
       "    </tr>\n",
       "  </tbody>\n",
       "</table>\n",
       "</div>"
      ],
      "text/plain": [
       "    Manufacturer              Model  Sales in thousands 4-year resale value  \\\n",
       "0  Acura          Integra                        16.919               16.36   \n",
       "1  Acura          TL                             39.384              19.875   \n",
       "2  Acura          CL                             14.114              18.225   \n",
       "3  Acura          RL                              8.588              29.725   \n",
       "4  Audi           A4                             20.397              22.255   \n",
       "\n",
       "  Vehicle type Price in thousands Engine size Horsepower Wheelbase Width  \\\n",
       "0    Passenger               21.5         1.8        140     101.2  67.3   \n",
       "1    Passenger               28.4         3.2        225     108.1  70.3   \n",
       "2    Passenger                  .         3.2        225     106.9  70.6   \n",
       "3    Passenger                 42         3.5        210     114.6  71.4   \n",
       "4    Passenger              23.99         1.8        150     102.6  68.2   \n",
       "\n",
       "  Length Curb weight Fuel capacity Fuel efficiency Latest Launch  \n",
       "0  172.4       2.639          13.2              28      2-Feb-14  \n",
       "1  192.9       3.517          17.2              25      6-Mar-15  \n",
       "2    192        3.47          17.2              26      1-Apr-14  \n",
       "3  196.6        3.85            18              22      3-Oct-15  \n",
       "4    178       2.998          16.4              27     10-Aug-15  "
      ]
     },
     "execution_count": 15,
     "metadata": {},
     "output_type": "execute_result"
    }
   ],
   "source": [
    "df.head()"
   ]
  },
  {
   "cell_type": "code",
   "execution_count": 16,
   "id": "b63175a6-7da2-4eef-be83-afb12df36329",
   "metadata": {},
   "outputs": [
    {
     "name": "stdout",
     "output_type": "stream",
     "text": [
      "Summary Statistics for Numerical Variables:\n",
      "       Sales in thousands\n",
      "count          157.000000\n",
      "mean            52.998076\n",
      "std             68.029422\n",
      "min              0.110000\n",
      "25%             14.114000\n",
      "50%             29.450000\n",
      "75%             67.956000\n",
      "max            540.561000\n"
     ]
    }
   ],
   "source": [
    "print(\"Summary Statistics for Numerical Variables:\")\n",
    "print(df.describe())"
   ]
  },
  {
   "cell_type": "code",
   "execution_count": 21,
   "id": "b596c1db-96a5-4d42-b06a-4127bd7ae0dd",
   "metadata": {},
   "outputs": [
    {
     "name": "stdout",
     "output_type": "stream",
     "text": [
      "Number of missing values in each column:\n",
      "Manufacturer           0\n",
      "Model                  0\n",
      "Sales in thousands     0\n",
      "4-year resale value    0\n",
      "Vehicle type           0\n",
      "Price in thousands     0\n",
      "Engine size            0\n",
      "Horsepower             0\n",
      "Wheelbase              0\n",
      "Width                  0\n",
      "Length                 0\n",
      "Curb weight            0\n",
      "Fuel capacity          0\n",
      "Fuel efficiency        0\n",
      "Latest Launch          0\n",
      "dtype: int64\n"
     ]
    }
   ],
   "source": [
    "print(\"Number of missing values in each column:\")\n",
    "print(df.isnull().sum())"
   ]
  },
  {
   "cell_type": "code",
   "execution_count": 20,
   "id": "b9e025c7-809c-4474-b792-b84647558bf7",
   "metadata": {},
   "outputs": [
    {
     "data": {
      "text/plain": [
       "np.int64(0)"
      ]
     },
     "execution_count": 20,
     "metadata": {},
     "output_type": "execute_result"
    }
   ],
   "source": [
    "df.Manufacturer.isnull().sum()"
   ]
  },
  {
   "cell_type": "code",
   "execution_count": 23,
   "id": "9e3dfe7f-140d-41c1-8188-95cb52463490",
   "metadata": {},
   "outputs": [
    {
     "data": {
      "text/plain": [
       "'Manufacturer'"
      ]
     },
     "execution_count": 23,
     "metadata": {},
     "output_type": "execute_result"
    }
   ],
   "source": [
    "df.isnull().sum().idxmax()"
   ]
  },
  {
   "cell_type": "code",
   "execution_count": 27,
   "id": "d969a39f-9827-4ace-9a09-ef1efd94713b",
   "metadata": {},
   "outputs": [],
   "source": [
    "# df.drop(columns=['Manufacturer'])"
   ]
  },
  {
   "cell_type": "code",
   "execution_count": 29,
   "id": "f42127dc-aedc-492f-a0aa-955dd4cc9aea",
   "metadata": {},
   "outputs": [
    {
     "name": "stdout",
     "output_type": "stream",
     "text": [
      "Manufacturer           0\n",
      "Model                  0\n",
      "Sales in thousands     0\n",
      "4-year resale value    0\n",
      "Vehicle type           0\n",
      "Price in thousands     0\n",
      "Engine size            0\n",
      "Horsepower             0\n",
      "Wheelbase              0\n",
      "Width                  0\n",
      "Length                 0\n",
      "Curb weight            0\n",
      "Fuel capacity          0\n",
      "Fuel efficiency        0\n",
      "Latest Launch          0\n",
      "dtype: int64\n"
     ]
    }
   ],
   "source": [
    "print(df.isnull().sum())"
   ]
  },
  {
   "cell_type": "code",
   "execution_count": 28,
   "id": "7b2c40ba-005e-4a37-9cbe-797857322884",
   "metadata": {},
   "outputs": [
    {
     "data": {
      "text/html": [
       "<div>\n",
       "<style scoped>\n",
       "    .dataframe tbody tr th:only-of-type {\n",
       "        vertical-align: middle;\n",
       "    }\n",
       "\n",
       "    .dataframe tbody tr th {\n",
       "        vertical-align: top;\n",
       "    }\n",
       "\n",
       "    .dataframe thead th {\n",
       "        text-align: right;\n",
       "    }\n",
       "</style>\n",
       "<table border=\"1\" class=\"dataframe\">\n",
       "  <thead>\n",
       "    <tr style=\"text-align: right;\">\n",
       "      <th></th>\n",
       "      <th>Manufacturer</th>\n",
       "      <th>Model</th>\n",
       "      <th>Sales in thousands</th>\n",
       "      <th>4-year resale value</th>\n",
       "      <th>Vehicle type</th>\n",
       "      <th>Price in thousands</th>\n",
       "      <th>Engine size</th>\n",
       "      <th>Horsepower</th>\n",
       "      <th>Wheelbase</th>\n",
       "      <th>Width</th>\n",
       "      <th>Length</th>\n",
       "      <th>Curb weight</th>\n",
       "      <th>Fuel capacity</th>\n",
       "      <th>Fuel efficiency</th>\n",
       "      <th>Latest Launch</th>\n",
       "    </tr>\n",
       "  </thead>\n",
       "  <tbody>\n",
       "    <tr>\n",
       "      <th>0</th>\n",
       "      <td>Acura</td>\n",
       "      <td>Integra</td>\n",
       "      <td>16.919</td>\n",
       "      <td>16.36</td>\n",
       "      <td>Passenger</td>\n",
       "      <td>21.5</td>\n",
       "      <td>1.8</td>\n",
       "      <td>140</td>\n",
       "      <td>101.2</td>\n",
       "      <td>67.3</td>\n",
       "      <td>172.4</td>\n",
       "      <td>2.639</td>\n",
       "      <td>13.2</td>\n",
       "      <td>28</td>\n",
       "      <td>2-Feb-14</td>\n",
       "    </tr>\n",
       "    <tr>\n",
       "      <th>1</th>\n",
       "      <td>Acura</td>\n",
       "      <td>TL</td>\n",
       "      <td>39.384</td>\n",
       "      <td>19.875</td>\n",
       "      <td>Passenger</td>\n",
       "      <td>28.4</td>\n",
       "      <td>3.2</td>\n",
       "      <td>225</td>\n",
       "      <td>108.1</td>\n",
       "      <td>70.3</td>\n",
       "      <td>192.9</td>\n",
       "      <td>3.517</td>\n",
       "      <td>17.2</td>\n",
       "      <td>25</td>\n",
       "      <td>6-Mar-15</td>\n",
       "    </tr>\n",
       "    <tr>\n",
       "      <th>2</th>\n",
       "      <td>Acura</td>\n",
       "      <td>CL</td>\n",
       "      <td>14.114</td>\n",
       "      <td>18.225</td>\n",
       "      <td>Passenger</td>\n",
       "      <td>.</td>\n",
       "      <td>3.2</td>\n",
       "      <td>225</td>\n",
       "      <td>106.9</td>\n",
       "      <td>70.6</td>\n",
       "      <td>192</td>\n",
       "      <td>3.47</td>\n",
       "      <td>17.2</td>\n",
       "      <td>26</td>\n",
       "      <td>1-Apr-14</td>\n",
       "    </tr>\n",
       "    <tr>\n",
       "      <th>3</th>\n",
       "      <td>Acura</td>\n",
       "      <td>RL</td>\n",
       "      <td>8.588</td>\n",
       "      <td>29.725</td>\n",
       "      <td>Passenger</td>\n",
       "      <td>42</td>\n",
       "      <td>3.5</td>\n",
       "      <td>210</td>\n",
       "      <td>114.6</td>\n",
       "      <td>71.4</td>\n",
       "      <td>196.6</td>\n",
       "      <td>3.85</td>\n",
       "      <td>18</td>\n",
       "      <td>22</td>\n",
       "      <td>3-Oct-15</td>\n",
       "    </tr>\n",
       "    <tr>\n",
       "      <th>4</th>\n",
       "      <td>Audi</td>\n",
       "      <td>A4</td>\n",
       "      <td>20.397</td>\n",
       "      <td>22.255</td>\n",
       "      <td>Passenger</td>\n",
       "      <td>23.99</td>\n",
       "      <td>1.8</td>\n",
       "      <td>150</td>\n",
       "      <td>102.6</td>\n",
       "      <td>68.2</td>\n",
       "      <td>178</td>\n",
       "      <td>2.998</td>\n",
       "      <td>16.4</td>\n",
       "      <td>27</td>\n",
       "      <td>10-Aug-15</td>\n",
       "    </tr>\n",
       "  </tbody>\n",
       "</table>\n",
       "</div>"
      ],
      "text/plain": [
       "    Manufacturer              Model  Sales in thousands 4-year resale value  \\\n",
       "0  Acura          Integra                        16.919               16.36   \n",
       "1  Acura          TL                             39.384              19.875   \n",
       "2  Acura          CL                             14.114              18.225   \n",
       "3  Acura          RL                              8.588              29.725   \n",
       "4  Audi           A4                             20.397              22.255   \n",
       "\n",
       "  Vehicle type Price in thousands Engine size Horsepower Wheelbase Width  \\\n",
       "0    Passenger               21.5         1.8        140     101.2  67.3   \n",
       "1    Passenger               28.4         3.2        225     108.1  70.3   \n",
       "2    Passenger                  .         3.2        225     106.9  70.6   \n",
       "3    Passenger                 42         3.5        210     114.6  71.4   \n",
       "4    Passenger              23.99         1.8        150     102.6  68.2   \n",
       "\n",
       "  Length Curb weight Fuel capacity Fuel efficiency Latest Launch  \n",
       "0  172.4       2.639          13.2              28      2-Feb-14  \n",
       "1  192.9       3.517          17.2              25      6-Mar-15  \n",
       "2    192        3.47          17.2              26      1-Apr-14  \n",
       "3  196.6        3.85            18              22      3-Oct-15  \n",
       "4    178       2.998          16.4              27     10-Aug-15  "
      ]
     },
     "execution_count": 28,
     "metadata": {},
     "output_type": "execute_result"
    }
   ],
   "source": [
    "\n",
    "df.head()"
   ]
  },
  {
   "cell_type": "code",
   "execution_count": 37,
   "id": "099b66e6-3506-40ff-8a2d-d341f108362d",
   "metadata": {},
   "outputs": [],
   "source": [
    "#Here we ar findint the min max values \n",
    "\n",
    "def finding_min_max(df,col_name):\n",
    "    min_value=df[col_name].min()\n",
    "    max_value=df[col_name].max()\n",
    "    return min_value,max_value"
   ]
  },
  {
   "cell_type": "code",
   "execution_count": 39,
   "id": "559f7b28-e88a-4ab9-9ad2-04fff81104e7",
   "metadata": {},
   "outputs": [
    {
     "name": "stdout",
     "output_type": "stream",
     "text": [
      "(np.float64(0.11), np.float64(540.561))\n"
     ]
    }
   ],
   "source": [
    "print(finding_min_max(df,'Sales in thousands'))"
   ]
  },
  {
   "cell_type": "code",
   "execution_count": null,
   "id": "f323dca5-7efd-4d1b-9c0d-c40812031149",
   "metadata": {},
   "outputs": [],
   "source": [
    "import matplotib.pyplot as plt\n",
    "plt.figure(figsize=(8, 5))"
   ]
  },
  {
   "cell_type": "code",
   "execution_count": null,
   "id": "8852b515-46f7-4780-b678-9e19a4f99a49",
   "metadata": {},
   "outputs": [],
   "source": []
  },
  {
   "cell_type": "code",
   "execution_count": null,
   "id": "b2c6a087-ce50-40a3-a315-fae7f57f6bc9",
   "metadata": {},
   "outputs": [],
   "source": []
  },
  {
   "cell_type": "code",
   "execution_count": null,
   "id": "47878efd-19e9-445d-b145-1993fd32d708",
   "metadata": {},
   "outputs": [],
   "source": []
  },
  {
   "cell_type": "code",
   "execution_count": null,
   "id": "875c5dbd-1763-4b87-a3c1-fbb82c02bd73",
   "metadata": {},
   "outputs": [],
   "source": []
  }
 ],
 "metadata": {
  "kernelspec": {
   "display_name": "Python 3 (ipykernel)",
   "language": "python",
   "name": "python3"
  },
  "language_info": {
   "codemirror_mode": {
    "name": "ipython",
    "version": 3
   },
   "file_extension": ".py",
   "mimetype": "text/x-python",
   "name": "python",
   "nbconvert_exporter": "python",
   "pygments_lexer": "ipython3",
   "version": "3.10.12"
  }
 },
 "nbformat": 4,
 "nbformat_minor": 5
}
